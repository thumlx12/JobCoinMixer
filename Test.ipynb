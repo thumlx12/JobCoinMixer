{
 "cells": [
  {
   "cell_type": "code",
   "execution_count": 3,
   "metadata": {},
   "outputs": [
    {
     "ename": "AttributeError",
     "evalue": "'_hashlib.HASH' object has no attribute 'decdigest'",
     "traceback": [
      "\u001b[0;31m---------------------------------------------------------------------------\u001b[0m",
      "\u001b[0;31mAttributeError\u001b[0m                            Traceback (most recent call last)",
      "\u001b[0;32m<ipython-input-3-a5a5bcaf4d57>\u001b[0m in \u001b[0;36m<module>\u001b[0;34m()\u001b[0m\n\u001b[1;32m      1\u001b[0m \u001b[0;32mimport\u001b[0m \u001b[0mhashlib\u001b[0m\u001b[0;34m\u001b[0m\u001b[0m\n\u001b[1;32m      2\u001b[0m \u001b[0;34m\u001b[0m\u001b[0m\n\u001b[0;32m----> 3\u001b[0;31m \u001b[0mhashlib\u001b[0m\u001b[0;34m.\u001b[0m\u001b[0msha256\u001b[0m\u001b[0;34m(\u001b[0m\u001b[0;34m\"Nobody inspects the spammish repetition\"\u001b[0m\u001b[0;34m)\u001b[0m\u001b[0;34m.\u001b[0m\u001b[0mdecdigest\u001b[0m\u001b[0;34m(\u001b[0m\u001b[0;34m)\u001b[0m\u001b[0;34m\u001b[0m\u001b[0m\n\u001b[0m",
      "\u001b[0;31mAttributeError\u001b[0m: '_hashlib.HASH' object has no attribute 'decdigest'"
     ],
     "output_type": "error"
    }
   ],
   "source": [
    "import hashlib\n",
    "\n",
    "hashlib.sha256(\"Nobody inspects the spammish repetition\").hexdigest()"
   ]
  },
  {
   "cell_type": "code",
   "execution_count": 31,
   "metadata": {},
   "outputs": [
    {
     "name": "stdout",
     "output_type": "stream",
     "text": [
      "{\"status\":\"OK\"}\n"
     ]
    }
   ],
   "source": [
    "import urllib\n",
    "import urllib2\n",
    "\n",
    "trans={'fromAddress':'Alice','toAddress':'Bob','amount':'0.01'}\n",
    "data = urllib.urlencode(trans)\n",
    "surl = 'http://jobcoin.gemini.com/cabdriver/api/transactions'\n",
    "req = urllib2.Request(surl,data)\n",
    "response = urllib2.urlopen(req)\n",
    "print(response.read())\n"
   ]
  },
  {
   "cell_type": "code",
   "execution_count": 14,
   "metadata": {},
   "outputs": [
    {
     "name": "stdout",
     "output_type": "stream",
     "text": [
      "<html><body><p>[{\"timestamp\":\"2017-11-21T16:21:03.027Z\",\"toAddress\":\"Alice\",\"amount\":\"50\"},{\"timestamp\":\"2017-11-21T16:21:04.784Z\",\"fromAddress\":\"Alice\",\"toAddress\":\"Bob\",\"amount\":\"12.5\"},{\"timestamp\":\"2017-12-10T18:36:59.772Z\",\"toAddress\":\"jane\",\"amount\":\"50\"},{\"timestamp\":\"2017-12-10T18:37:12.954Z\",\"fromAddress\":\"Bob\",\"toAddress\":\"jane\",\"amount\":\"10\"},{\"timestamp\":\"2017-12-10T19:22:17.291Z\",\"fromAddress\":\"jane\",\"toAddress\":\"Bob\",\"amount\":\"20.75\"},{\"timestamp\":\"2017-12-10T19:50:31.369Z\",\"fromAddress\":\"Alice\",\"toAddress\":\"hello\",\"amount\":\"1\"},{\"timestamp\":\"2017-12-10T19:50:45.390Z\",\"fromAddress\":\"Alice\",\"toAddress\":\"dasda\",\"amount\":\"1\"},{\"timestamp\":\"2017-12-10T20:06:20.823Z\",\"fromAddress\":\"Alice\",\"toAddress\":\"Bob\",\"amount\":\"1.111\"}]</p></body></html>\n"
     ]
    }
   ],
   "source": [
    "from bs4 import BeautifulSoup\n",
    "import requests\n",
    "response = requests.get('http://jobcoin.gemini.com/cabdriver/api/transactions')\n",
    "soup = BeautifulSoup(response.text, \"lxml\")\n",
    "print(soup)"
   ]
  },
  {
   "cell_type": "code",
   "execution_count": 6,
   "metadata": {},
   "outputs": [
    {
     "name": "stdout",
     "output_type": "stream",
     "text": [
      "728\n"
     ]
    }
   ],
   "source": [
    "import urllib2\n",
    "\"\"\"\n",
    "read old length from file into variable\n",
    "\"\"\"\n",
    "request = urllib2.Request('https://jobcoin.gemini.com/cabdriver/api/transactions')\n",
    "request.get_method = lambda : 'HEAD'\n",
    "\n",
    "response = urllib2.urlopen(request)\n",
    "new_length = response.info()[\"Content-Length\"]\n",
    "print(new_length)"
   ]
  },
  {
   "cell_type": "code",
   "execution_count": 28,
   "metadata": {},
   "outputs": [],
   "source": [
    "import difflib\n",
    "from pprint import pprint\n",
    "import json\n",
    "d = difflib.Differ()\n",
    "text0 = '[{\"timestamp\":\"2017-11-21T16:21:03.027Z\",\"toAddress\":\"Alice\",\"amount\":\"50\"}]'\n",
    "text1 = '[{\"timestamp\":\"2017-11-21T16:21:03.027Z\",\"toAddress\":\"Alice\",\"amount\":\"50\"},{\"timestamp\":\"2017-11-21T16:21:04.784Z\",\"fromAddress\":\"Alice\",\"toAddress\":\"Bob\",\"amount\":\"12.5\"},{\"timestamp\":\"2017-12-10T18:36:59.772Z\",\"toAddress\":\"jane\",\"amount\":\"50\"},{\"timestamp\":\"2017-12-10T18:37:12.954Z\",\"fromAddress\":\"Bob\",\"toAddress\":\"jane\",\"amount\":\"10\"},{\"timestamp\":\"2017-12-10T19:22:17.291Z\",\"fromAddress\":\"jane\",\"toAddress\":\"Bob\",\"amount\":\"20.75\"},{\"timestamp\":\"2017-12-10T19:50:31.369Z\",\"fromAddress\":\"Alice\",\"toAddress\":\"hello\",\"amount\":\"1\"},{\"timestamp\":\"2017-12-10T19:50:45.390Z\",\"fromAddress\":\"Alice\",\"toAddress\":\"dasda\",\"amount\":\"1\"}]'\n",
    "text2 = '[{\"timestamp\":\"2017-11-21T16:21:03.027Z\",\"toAddress\":\"Alice\",\"amount\":\"50\"},{\"timestamp\":\"2017-11-21T16:21:04.784Z\",\"fromAddress\":\"Alice\",\"toAddress\":\"Bob\",\"amount\":\"12.5\"},{\"timestamp\":\"2017-12-10T18:36:59.772Z\",\"toAddress\":\"jane\",\"amount\":\"50\"},{\"timestamp\":\"2017-12-10T18:37:12.954Z\",\"fromAddress\":\"Bob\",\"toAddress\":\"jane\",\"amount\":\"10\"},{\"timestamp\":\"2017-12-10T19:22:17.291Z\",\"fromAddress\":\"jane\",\"toAddress\":\"Bob\",\"amount\":\"20.75\"},{\"timestamp\":\"2017-12-10T19:50:31.369Z\",\"fromAddress\":\"Alice\",\"toAddress\":\"hello\",\"amount\":\"1\"},{\"timestamp\":\"2017-12-10T19:50:45.390Z\",\"fromAddress\":\"Alice\",\"toAddress\":\"dasda\",\"amount\":\"1\"},{\"timestamp\":\"2017-12-10T20:06:20.823Z\",\"fromAddress\":\"Alice\",\"toAddress\":\"Bob\",\"amount\":\"1.111\"}]'\n",
    "result = list(d.compare(text1, text2))\n",
    "j1 = json.loads(text1)\n",
    "j2 = json.loads(text2)"
   ]
  },
  {
   "cell_type": "code",
   "execution_count": 33,
   "metadata": {},
   "outputs": [
    {
     "ename": "TypeError",
     "evalue": "'int' object is not iterable",
     "traceback": [
      "\u001b[0;31m---------------------------------------------------------------------------\u001b[0m",
      "\u001b[0;31mTypeError\u001b[0m                                 Traceback (most recent call last)",
      "\u001b[0;32m<ipython-input-33-8c182cbe990c>\u001b[0m in \u001b[0;36m<module>\u001b[0;34m()\u001b[0m\n\u001b[1;32m      1\u001b[0m \u001b[0ma\u001b[0m \u001b[0;34m=\u001b[0m \u001b[0;34m{\u001b[0m\u001b[0;36m1\u001b[0m\u001b[0;34m:\u001b[0m\u001b[0;36m2\u001b[0m\u001b[0;34m,\u001b[0m\u001b[0;36m2\u001b[0m\u001b[0;34m:\u001b[0m\u001b[0;36m3\u001b[0m\u001b[0;34m,\u001b[0m\u001b[0;36m3\u001b[0m\u001b[0;34m:\u001b[0m\u001b[0;36m4\u001b[0m\u001b[0;34m}\u001b[0m\u001b[0;34m\u001b[0m\u001b[0m\n\u001b[0;32m----> 2\u001b[0;31m \u001b[0;32mfor\u001b[0m \u001b[0;34m(\u001b[0m\u001b[0mkey\u001b[0m\u001b[0;34m,\u001b[0m\u001b[0mitem\u001b[0m\u001b[0;34m)\u001b[0m \u001b[0;32min\u001b[0m \u001b[0ma\u001b[0m\u001b[0;34m:\u001b[0m\u001b[0;34m\u001b[0m\u001b[0m\n\u001b[0m\u001b[1;32m      3\u001b[0m     \u001b[0;32mprint\u001b[0m\u001b[0;34m(\u001b[0m\u001b[0mkey\u001b[0m\u001b[0;34m,\u001b[0m\u001b[0mitem\u001b[0m\u001b[0;34m)\u001b[0m\u001b[0;34m\u001b[0m\u001b[0m\n",
      "\u001b[0;31mTypeError\u001b[0m: 'int' object is not iterable"
     ],
     "output_type": "error"
    }
   ],
   "source": [
    "a = {1:2,2:3,3:4}\n",
    "for (key,item) in a:\n",
    "    print(key,item)"
   ]
  },
  {
   "cell_type": "code",
   "execution_count": null,
   "metadata": {},
   "outputs": [],
   "source": []
  }
 ],
 "metadata": {
  "kernelspec": {
   "display_name": "Python 2",
   "language": "python",
   "name": "python2"
  },
  "language_info": {
   "codemirror_mode": {
    "name": "ipython",
    "version": 2
   },
   "file_extension": ".py",
   "mimetype": "text/x-python",
   "name": "python",
   "nbconvert_exporter": "python",
   "pygments_lexer": "ipython2",
   "version": "2.7.13"
  }
 },
 "nbformat": 4,
 "nbformat_minor": 2
}
